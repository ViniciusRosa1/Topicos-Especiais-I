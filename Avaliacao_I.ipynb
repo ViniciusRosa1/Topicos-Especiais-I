{
 "cells": [
  {
   "cell_type": "markdown",
   "metadata": {},
   "source": [
    "#### DEC7551-05655 (20232) - Tópicos Especiais I\n",
    "#### Avaliação I (21/09/2023) "
   ]
  },
  {
   "cell_type": "markdown",
   "metadata": {},
   "source": [
    "##### Bruno Bortolato (20250344) e Vinicius Amaro da Rosa (18203857)"
   ]
  },
  {
   "cell_type": "code",
   "execution_count": 10,
   "metadata": {},
   "outputs": [],
   "source": [
    "import numpy as np\n",
    "import pandas as pd\n",
    "import os\n",
    "from math import sqrt\n",
    "import matplotlib.pyplot as plt\n",
    "from numpy import NaN\n",
    "plt.rc('figure', figsize=(10, 5))"
   ]
  },
  {
   "cell_type": "markdown",
   "metadata": {},
   "source": [
    "##### 1) Considerando duas listas, ou outra estrutura, que em cada posição das listas existirão valores numéricos positivos, elabore uma função para o cálculo do ângulo vetorial através da equação do cosseno, conforme equação abaixo (1,0):\n",
    "\n",
    "A similaridade entre dois vetores não zerados pode ser calculado utilizando a medida do cosseno. A partir de dois vetores n-dimensionais, A e B, a similaridade do cosseno, cos(θ), é calculada utilizando o produto dos pontos dos dois vetores dividido pela multiplicação da norma desses vetores:<br> \n",
    "![cosine](cosine.png)\n",
    "\n",
    "Ao final, apresente alguns exemplos de execução da função. O valor do cosseno deve ficar entre 0 e 1.\n",
    "\n",
    "Obs: Será necessário importar a biblioteca math -> import math"
   ]
  },
  {
   "cell_type": "code",
   "execution_count": 43,
   "metadata": {},
   "outputs": [
    {
     "name": "stdout",
     "output_type": "stream",
     "text": [
      "O valor do cosseno entre os vetores é aproximadamente 0.7021216231384984.\n",
      "O valor do cosseno entre os vetores é aproximadamente 0.794430616236824.\n"
     ]
    }
   ],
   "source": [
    "import math\n",
    "\n",
    "def calcular_angulo_vetorial(vetor1, vetor2):\n",
    "    # Calcular o produto escalar\n",
    "    produto_escalar = sum(a*b for a, b in zip(vetor1, vetor2))\n",
    "    \n",
    "    # Calcular as normas dos vetores\n",
    "    norma_vetor1 = math.sqrt(sum(a**2 for a in vetor1))\n",
    "    norma_vetor2 = math.sqrt(sum(b**2 for b in vetor2))\n",
    "    \n",
    "    if norma_vetor1 == 0 or norma_vetor2 == 0:     \n",
    "        return 0.0\n",
    "    \n",
    "    # Calcular o cosseno do ângulo\n",
    "    cosseno = produto_escalar / (norma_vetor1 * norma_vetor2)\n",
    "\n",
    "    return cosseno\n",
    "\n",
    "\n",
    "# Exemplo 1\n",
    "vetor1 = np.random.rand(10)\n",
    "vetor2 = np.random.rand(10)\n",
    "cosseno = calcular_angulo_vetorial(vetor1, vetor2)\n",
    "print(f\"O valor do cosseno entre os vetores é aproximadamente {cosseno}.\")\n",
    "\n",
    "# Exemplo 2\n",
    "vetor3 = np.random.rand(10)\n",
    "vetor4 = np.random.rand(10)\n",
    "cosseno = calcular_angulo_vetorial(vetor3, vetor4)\n",
    "print(f\"O valor do cosseno entre os vetores é aproximadamente {cosseno}.\")"
   ]
  },
  {
   "cell_type": "markdown",
   "metadata": {},
   "source": [
    "##### 2) Considerando o conjunto de arquivos disponibilizado para esta avaliação, presentes em diferentes diretórios, elabore um código em Python que realize a carga desses arquivos de maneira iterativa e ao final integre todos os arquivos em um DataFrame (1,0):"
   ]
  },
  {
   "cell_type": "code",
   "execution_count": 44,
   "metadata": {},
   "outputs": [
    {
     "name": "stdout",
     "output_type": "stream",
     "text": [
      "          nome id_inscricao      curso graduacao_completa  \\\n",
      "0  Candidato 1   2022-02929  Doutorado                Sim   \n",
      "1  Candidato 2   2022-02812  Doutorado                Sim   \n",
      "2  Candidato 3   2022-19282  Doutorado                Sim   \n",
      "3  Candidato 4   2022-05828   Mestrado                Sim   \n",
      "4  Candidato 5   2022-08626   Mestrado                Sim   \n",
      "5  Candidato 6   2022-28322   Mestrado                Sim   \n",
      "\n",
      "  especializacao_completa mestrado_completo  trabalhos_eventos_nacionais  \\\n",
      "0                     Sim               Sim                            1   \n",
      "1                     Não               Sim                            1   \n",
      "2                     Sim               Sim                            0   \n",
      "3                     Sim               Não                            1   \n",
      "4                     Não               Não                            0   \n",
      "5                     Sim               Não                            0   \n",
      "\n",
      "   trabalhos_eventos_internacionais  artigos_sem_qualis  artigos_qualis_b5_c  \\\n",
      "0                                 2                   0                    0   \n",
      "1                                 0                   0                    0   \n",
      "2                                 0                   0                    1   \n",
      "3                                 0                   0                    0   \n",
      "4                                 1                   0                    0   \n",
      "5                                 2                   0                    0   \n",
      "\n",
      "   ...  tempo_docencia   nota_cv                        area   tematica_1  \\\n",
      "0  ...               1  3,693548      Gestão do Conhecimento   temática 1   \n",
      "1  ...               1  4,122232       Mídia do Conhecimento   temática 1   \n",
      "2  ...               1  2,930399  Engenharia do Conhecimento  temática 10   \n",
      "3  ...               0  2,128293      Gestão do Conhecimento   temática 1   \n",
      "4  ...               0  2,655652       Mídia do Conhecimento   temática 9   \n",
      "5  ...               0  2,893722  Engenharia do Conhecimento  temática 10   \n",
      "\n",
      "    tematica_2   tematica_3   tematica_4   tematica_5  \\\n",
      "0   temática 2   temática 8   tematica 9  tematica 12   \n",
      "1   temática 9  temática 10  tematica 13  tematica 14   \n",
      "2  temática 11  temática 15  tematica 18  tematica 19   \n",
      "3   temática 3   temática 5   tematica 6   tematica 9   \n",
      "4  temática 13  temática 14   tematica 2  tematica 10   \n",
      "5  temática 11  temática 16  tematica 17  tematica 18   \n",
      "\n",
      "   nota_producao_bibliografica  nota_producao_tecnica_tecnologica  \n",
      "0                            7                                 10  \n",
      "1                            5                                  6  \n",
      "2                            0                                  6  \n",
      "3                            2                                  5  \n",
      "4                            4                                  0  \n",
      "5                            4                                  2  \n",
      "\n",
      "[6 rows x 31 columns]\n"
     ]
    }
   ],
   "source": [
    "\n",
    "dataframe = []\n",
    "\n",
    "for i in range(1, 7):\n",
    "    pasta_candidato = f'Arquivos/Questão 2/Candidato_{i}'\n",
    "    caminho_arquivo = os.path.join(pasta_candidato, 'Informações de Inscrição.csv')\n",
    "\n",
    "    if os.path.isfile(caminho_arquivo):\n",
    "        df = pd.read_csv(caminho_arquivo, sep=';')\n",
    "        dataframe.append(df)\n",
    "\n",
    "df_candidatos = pd.concat(dataframe, axis=0, ignore_index=True)\n",
    "print(df_candidatos)"
   ]
  },
  {
   "cell_type": "markdown",
   "metadata": {},
   "source": [
    "##### 3) Considerando as colunas abaixo calcule a similaridade vetorial entre todos os pares distintos de candidatos usando a função elaborada na questão 1. O resultado deve ser armazenado em um dataframe. Na sequência, para cada linha que representa um candidato, apresente o candidato mais similar com a respectiva similaridade excluindo-se o candidato de origem (1,5):\n",
    "\n",
    "1 - trabalhos_eventos_nacionais<br>\n",
    "2 - trabalhos_eventos_internacionais<br>\n",
    "3 - artigos_sem_qualis<br>\n",
    "4 - artigos_qualis_b5_c<br>\n",
    "5 - artigos_qualis_b3_b4<br>\n",
    "6 - artigos_qualis_b1_b2<br>\n",
    "7 - artigos_qualis_a1_a2<br>\n",
    "8 - livros_publicados<br>\n",
    "9 - capitulos_livros<br>\n",
    "10 - livros_organizados<br>\n",
    "11 - participacao_projeto_pesquisa<br>\n",
    "12 - coordenacao_projeto_pesquisa<br>\n",
    "13 - software_produto_sem_registro<br>\n",
    "14 - software_produto_com_registro "
   ]
  },
  {
   "cell_type": "code",
   "execution_count": 51,
   "metadata": {},
   "outputs": [
    {
     "name": "stdout",
     "output_type": "stream",
     "text": [
      "          1         2         3         4         5         6\n",
      "1         0  0.603023  0.408248    0.3849       0.5  0.755929\n",
      "2  0.603023         0  0.369274  0.696311  0.301511  0.341882\n",
      "3  0.408248  0.369274         0       0.0  0.408248  0.308607\n",
      "4    0.3849  0.696311       0.0         0  0.288675  0.218218\n",
      "5       0.5  0.301511  0.408248  0.288675         0  0.755929\n",
      "6  0.755929  0.341882  0.308607  0.218218  0.755929         0\n"
     ]
    },
    {
     "ename": "TypeError",
     "evalue": "reduction operation 'argmax' not allowed for this dtype",
     "output_type": "error",
     "traceback": [
      "\u001b[0;31m---------------------------------------------------------------------------\u001b[0m",
      "\u001b[0;31mTypeError\u001b[0m                                 Traceback (most recent call last)",
      "\u001b[1;32m/Users/viniciusrosa/Desktop/Avaliação I-2023-2_final/Avalia‡ֶo I-2023-2_final.ipynb Cell 9\u001b[0m line \u001b[0;36m3\n\u001b[1;32m     <a href='vscode-notebook-cell:/Users/viniciusrosa/Desktop/Avalia%C3%A7%C3%A3o%20I-2023-2_final/Avalia%E2%80%A1%D6%B6o%20I-2023-2_final.ipynb#X11sZmlsZQ%3D%3D?line=32'>33</a>\u001b[0m most_similar \u001b[39m=\u001b[39m pd\u001b[39m.\u001b[39mDataFrame(index\u001b[39m=\u001b[39msimilarity_df\u001b[39m.\u001b[39mindex, columns\u001b[39m=\u001b[39m[\u001b[39m\"\u001b[39m\u001b[39mMost_Similar\u001b[39m\u001b[39m\"\u001b[39m, \u001b[39m\"\u001b[39m\u001b[39mSimilarity\u001b[39m\u001b[39m\"\u001b[39m])\n\u001b[1;32m     <a href='vscode-notebook-cell:/Users/viniciusrosa/Desktop/Avalia%C3%A7%C3%A3o%20I-2023-2_final/Avalia%E2%80%A1%D6%B6o%20I-2023-2_final.ipynb#X11sZmlsZQ%3D%3D?line=34'>35</a>\u001b[0m \u001b[39mfor\u001b[39;00m i \u001b[39min\u001b[39;00m similarity_df\u001b[39m.\u001b[39mindex:\n\u001b[0;32m---> <a href='vscode-notebook-cell:/Users/viniciusrosa/Desktop/Avalia%C3%A7%C3%A3o%20I-2023-2_final/Avalia%E2%80%A1%D6%B6o%20I-2023-2_final.ipynb#X11sZmlsZQ%3D%3D?line=35'>36</a>\u001b[0m     similar_candidate \u001b[39m=\u001b[39m similarity_df\u001b[39m.\u001b[39;49mloc[i]\u001b[39m.\u001b[39;49midxmax()\n\u001b[1;32m     <a href='vscode-notebook-cell:/Users/viniciusrosa/Desktop/Avalia%C3%A7%C3%A3o%20I-2023-2_final/Avalia%E2%80%A1%D6%B6o%20I-2023-2_final.ipynb#X11sZmlsZQ%3D%3D?line=36'>37</a>\u001b[0m     \u001b[39m#similarity_value = similarity_df.at[i, similar_candidate]\u001b[39;00m\n\u001b[1;32m     <a href='vscode-notebook-cell:/Users/viniciusrosa/Desktop/Avalia%C3%A7%C3%A3o%20I-2023-2_final/Avalia%E2%80%A1%D6%B6o%20I-2023-2_final.ipynb#X11sZmlsZQ%3D%3D?line=37'>38</a>\u001b[0m     most_similar\u001b[39m.\u001b[39mat[i, \u001b[39m\"\u001b[39m\u001b[39mMost_Similar\u001b[39m\u001b[39m\"\u001b[39m] \u001b[39m=\u001b[39m similar_candidate\n",
      "File \u001b[0;32m/Library/Frameworks/Python.framework/Versions/3.10/lib/python3.10/site-packages/pandas/core/series.py:2531\u001b[0m, in \u001b[0;36mSeries.idxmax\u001b[0;34m(self, axis, skipna, *args, **kwargs)\u001b[0m\n\u001b[1;32m   2466\u001b[0m \u001b[39m\u001b[39m\u001b[39m\"\"\"\u001b[39;00m\n\u001b[1;32m   2467\u001b[0m \u001b[39mReturn the row label of the maximum value.\u001b[39;00m\n\u001b[1;32m   2468\u001b[0m \n\u001b[0;32m   (...)\u001b[0m\n\u001b[1;32m   2527\u001b[0m \u001b[39mnan\u001b[39;00m\n\u001b[1;32m   2528\u001b[0m \u001b[39m\"\"\"\u001b[39;00m\n\u001b[1;32m   2529\u001b[0m \u001b[39m# error: Argument 1 to \"argmax\" of \"IndexOpsMixin\" has incompatible type\u001b[39;00m\n\u001b[1;32m   2530\u001b[0m \u001b[39m# \"Union[int, Literal['index', 'columns']]\"; expected \"Optional[int]\"\u001b[39;00m\n\u001b[0;32m-> 2531\u001b[0m i \u001b[39m=\u001b[39m \u001b[39mself\u001b[39;49m\u001b[39m.\u001b[39;49margmax(axis, skipna, \u001b[39m*\u001b[39;49margs, \u001b[39m*\u001b[39;49m\u001b[39m*\u001b[39;49mkwargs)  \u001b[39m# type: ignore[arg-type]\u001b[39;00m\n\u001b[1;32m   2532\u001b[0m \u001b[39mif\u001b[39;00m i \u001b[39m==\u001b[39m \u001b[39m-\u001b[39m\u001b[39m1\u001b[39m:\n\u001b[1;32m   2533\u001b[0m     \u001b[39mreturn\u001b[39;00m np\u001b[39m.\u001b[39mnan\n",
      "File \u001b[0;32m/Library/Frameworks/Python.framework/Versions/3.10/lib/python3.10/site-packages/pandas/core/base.py:678\u001b[0m, in \u001b[0;36mIndexOpsMixin.argmax\u001b[0;34m(self, axis, skipna, *args, **kwargs)\u001b[0m\n\u001b[1;32m    674\u001b[0m         \u001b[39mreturn\u001b[39;00m delegate\u001b[39m.\u001b[39margmax()\n\u001b[1;32m    675\u001b[0m \u001b[39melse\u001b[39;00m:\n\u001b[1;32m    676\u001b[0m     \u001b[39m# error: Incompatible return value type (got \"Union[int, ndarray]\", expected\u001b[39;00m\n\u001b[1;32m    677\u001b[0m     \u001b[39m# \"int\")\u001b[39;00m\n\u001b[0;32m--> 678\u001b[0m     \u001b[39mreturn\u001b[39;00m nanops\u001b[39m.\u001b[39;49mnanargmax(  \u001b[39m# type: ignore[return-value]\u001b[39;49;00m\n\u001b[1;32m    679\u001b[0m         delegate, skipna\u001b[39m=\u001b[39;49mskipna\n\u001b[1;32m    680\u001b[0m     )\n",
      "File \u001b[0;32m/Library/Frameworks/Python.framework/Versions/3.10/lib/python3.10/site-packages/pandas/core/nanops.py:91\u001b[0m, in \u001b[0;36mdisallow.__call__.<locals>._f\u001b[0;34m(*args, **kwargs)\u001b[0m\n\u001b[1;32m     89\u001b[0m \u001b[39mif\u001b[39;00m \u001b[39many\u001b[39m(\u001b[39mself\u001b[39m\u001b[39m.\u001b[39mcheck(obj) \u001b[39mfor\u001b[39;00m obj \u001b[39min\u001b[39;00m obj_iter):\n\u001b[1;32m     90\u001b[0m     f_name \u001b[39m=\u001b[39m f\u001b[39m.\u001b[39m\u001b[39m__name__\u001b[39m\u001b[39m.\u001b[39mreplace(\u001b[39m\"\u001b[39m\u001b[39mnan\u001b[39m\u001b[39m\"\u001b[39m, \u001b[39m\"\u001b[39m\u001b[39m\"\u001b[39m)\n\u001b[0;32m---> 91\u001b[0m     \u001b[39mraise\u001b[39;00m \u001b[39mTypeError\u001b[39;00m(\n\u001b[1;32m     92\u001b[0m         \u001b[39mf\u001b[39m\u001b[39m\"\u001b[39m\u001b[39mreduction operation \u001b[39m\u001b[39m'\u001b[39m\u001b[39m{\u001b[39;00mf_name\u001b[39m}\u001b[39;00m\u001b[39m'\u001b[39m\u001b[39m not allowed for this dtype\u001b[39m\u001b[39m\"\u001b[39m\n\u001b[1;32m     93\u001b[0m     )\n\u001b[1;32m     94\u001b[0m \u001b[39mtry\u001b[39;00m:\n\u001b[1;32m     95\u001b[0m     \u001b[39mwith\u001b[39;00m np\u001b[39m.\u001b[39merrstate(invalid\u001b[39m=\u001b[39m\u001b[39m\"\u001b[39m\u001b[39mignore\u001b[39m\u001b[39m\"\u001b[39m):\n",
      "\u001b[0;31mTypeError\u001b[0m: reduction operation 'argmax' not allowed for this dtype"
     ]
    }
   ],
   "source": [
    "# Colunas que serão utilizadas para calcular a similaridade\n",
    "columns = [\n",
    "    \"trabalhos_eventos_nacionais\", \"trabalhos_eventos_internacionais\",\n",
    "    \"artigos_sem_qualis\", \"artigos_qualis_b5_c\", \"artigos_qualis_b3_b4\",\n",
    "    \"artigos_qualis_b1_b2\", \"artigos_qualis_a1_a2\", \"livros_publicados\",\n",
    "    \"capitulos_livros\", \"livros_organizados\", \"participacao_projeto_pesquisa\",\n",
    "    \"coordenacao_projeto_pesquisa\", \"software_produto_sem_registro\",\n",
    "    \"software_produto_com_registro\"\n",
    "]\n",
    "\n",
    "# Criar um DataFrame para armazenar os resultados\n",
    "similarity_df = pd.DataFrame(index=df_candidatos.index, columns=df_candidatos.index)\n",
    "\n",
    "# Calcular a similaridade para todos os pares distintos\n",
    "for i in df_candidatos.index:\n",
    "    for j in df_candidatos.index:\n",
    "        if i != j:\n",
    "            vector_i = df_candidatos.loc[i, columns].values\n",
    "            vector_j = df_candidatos.loc[j, columns].values\n",
    "            similarity_df.at[i, j] = calcular_angulo_vetorial(vector_i, vector_j)\n",
    "        else:\n",
    "            similarity_df.at[i, j] = 0  # Definir 0 para a similaridade do candidato com ele mesmo\n",
    "\n",
    "\n",
    "# Formatar as linhas e colunas para começar em 1\n",
    "similarity_df.index += 1\n",
    "similarity_df.columns += 1\n",
    "\n",
    "# Exibir o DataFrame\n",
    "print(similarity_df)\n",
    "\n",
    "# Encontrar o candidato mais similar para cada linha\n",
    "most_similar = pd.DataFrame(index=similarity_df.index, columns=[\"Most_Similar\", \"Similarity\"])\n",
    "\n",
    "for i in similarity_df.index:\n",
    "    similar_candidate = similarity_df.loc[i].idxmax()\n",
    "    similarity_value = similarity_df.at[i, similar_candidate]\n",
    "    most_similar.at[i, \"Most_Similar\"] = similar_candidate\n",
    "    most_similar.at[i, \"Similarity\"] = similarity_value\n",
    "\n",
    "print(most_similar)"
   ]
  },
  {
   "cell_type": "markdown",
   "metadata": {},
   "source": [
    "##### 4) Considerando os dados carregados no DataFrame da questão 2 crie uma nova coluna em que o valor deve ser calculado com base na seguinte equação (1,0):\n",
    "\n",
    "media_final = ((nota_cv / máxima nota por curso * 10) * 0,4) + (nota_producao_bibliografica * 0,4) + (nota_producao_tecnica_tecnologica * 0,2) \n",
    "\n",
    "##### Considerando a nova coluna (media_final) apresente uma lista ordenada por curso e média final em ordem descresente contendo o nome do candidato, o curso, a área e a média final. O resultado deve também ser salvo em um arquivo no formato CSV."
   ]
  },
  {
   "cell_type": "code",
   "execution_count": 46,
   "metadata": {},
   "outputs": [
    {
     "name": "stdout",
     "output_type": "stream",
     "text": [
      "curso\n",
      "Doutorado    4,122232\n",
      "Mestrado     2,893722\n",
      "Name: nota_cv, dtype: object\n"
     ]
    },
    {
     "ename": "TypeError",
     "evalue": "unsupported operand type(s) for /: 'float' and 'str'",
     "output_type": "error",
     "traceback": [
      "\u001b[0;31m---------------------------------------------------------------------------\u001b[0m",
      "\u001b[0;31mTypeError\u001b[0m                                 Traceback (most recent call last)",
      "\u001b[1;32m/Users/viniciusrosa/Desktop/Avaliação I-2023-2_final/Avalia‡ֶo I-2023-2_final.ipynb Cell 11\u001b[0m line \u001b[0;36m1\n\u001b[1;32m     <a href='vscode-notebook-cell:/Users/viniciusrosa/Desktop/Avalia%C3%A7%C3%A3o%20I-2023-2_final/Avalia%E2%80%A1%D6%B6o%20I-2023-2_final.ipynb#X13sZmlsZQ%3D%3D?line=15'>16</a>\u001b[0m \u001b[39mprint\u001b[39m(max_nota_por_curso)\n\u001b[1;32m     <a href='vscode-notebook-cell:/Users/viniciusrosa/Desktop/Avalia%C3%A7%C3%A3o%20I-2023-2_final/Avalia%E2%80%A1%D6%B6o%20I-2023-2_final.ipynb#X13sZmlsZQ%3D%3D?line=17'>18</a>\u001b[0m \u001b[39m# Aplicar a função de cálculo a cada linha do DataFrame\u001b[39;00m\n\u001b[0;32m---> <a href='vscode-notebook-cell:/Users/viniciusrosa/Desktop/Avalia%C3%A7%C3%A3o%20I-2023-2_final/Avalia%E2%80%A1%D6%B6o%20I-2023-2_final.ipynb#X13sZmlsZQ%3D%3D?line=18'>19</a>\u001b[0m df_candidatos[\u001b[39m'\u001b[39m\u001b[39mmedia_final\u001b[39m\u001b[39m'\u001b[39m] \u001b[39m=\u001b[39m df_candidatos\u001b[39m.\u001b[39;49mapply(\n\u001b[1;32m     <a href='vscode-notebook-cell:/Users/viniciusrosa/Desktop/Avalia%C3%A7%C3%A3o%20I-2023-2_final/Avalia%E2%80%A1%D6%B6o%20I-2023-2_final.ipynb#X13sZmlsZQ%3D%3D?line=19'>20</a>\u001b[0m     \u001b[39mlambda\u001b[39;49;00m row: calcular_media_final(row, max_nota_por_curso), axis\u001b[39m=\u001b[39;49m\u001b[39m1\u001b[39;49m\n\u001b[1;32m     <a href='vscode-notebook-cell:/Users/viniciusrosa/Desktop/Avalia%C3%A7%C3%A3o%20I-2023-2_final/Avalia%E2%80%A1%D6%B6o%20I-2023-2_final.ipynb#X13sZmlsZQ%3D%3D?line=20'>21</a>\u001b[0m )\n\u001b[1;32m     <a href='vscode-notebook-cell:/Users/viniciusrosa/Desktop/Avalia%C3%A7%C3%A3o%20I-2023-2_final/Avalia%E2%80%A1%D6%B6o%20I-2023-2_final.ipynb#X13sZmlsZQ%3D%3D?line=22'>23</a>\u001b[0m \u001b[39m# Ordene o DataFrame por curso e média final em ordem decrescente\u001b[39;00m\n\u001b[1;32m     <a href='vscode-notebook-cell:/Users/viniciusrosa/Desktop/Avalia%C3%A7%C3%A3o%20I-2023-2_final/Avalia%E2%80%A1%D6%B6o%20I-2023-2_final.ipynb#X13sZmlsZQ%3D%3D?line=23'>24</a>\u001b[0m df_ordenado \u001b[39m=\u001b[39m df_candidatos\u001b[39m.\u001b[39msort_values(by\u001b[39m=\u001b[39m[\u001b[39m'\u001b[39m\u001b[39mcurso\u001b[39m\u001b[39m'\u001b[39m, \u001b[39m'\u001b[39m\u001b[39mmedia_final\u001b[39m\u001b[39m'\u001b[39m], ascending\u001b[39m=\u001b[39m[\u001b[39mTrue\u001b[39;00m, \u001b[39mFalse\u001b[39;00m])\n",
      "File \u001b[0;32m/Library/Frameworks/Python.framework/Versions/3.10/lib/python3.10/site-packages/pandas/core/frame.py:9423\u001b[0m, in \u001b[0;36mDataFrame.apply\u001b[0;34m(self, func, axis, raw, result_type, args, **kwargs)\u001b[0m\n\u001b[1;32m   9412\u001b[0m \u001b[39mfrom\u001b[39;00m \u001b[39mpandas\u001b[39;00m\u001b[39m.\u001b[39;00m\u001b[39mcore\u001b[39;00m\u001b[39m.\u001b[39;00m\u001b[39mapply\u001b[39;00m \u001b[39mimport\u001b[39;00m frame_apply\n\u001b[1;32m   9414\u001b[0m op \u001b[39m=\u001b[39m frame_apply(\n\u001b[1;32m   9415\u001b[0m     \u001b[39mself\u001b[39m,\n\u001b[1;32m   9416\u001b[0m     func\u001b[39m=\u001b[39mfunc,\n\u001b[0;32m   (...)\u001b[0m\n\u001b[1;32m   9421\u001b[0m     kwargs\u001b[39m=\u001b[39mkwargs,\n\u001b[1;32m   9422\u001b[0m )\n\u001b[0;32m-> 9423\u001b[0m \u001b[39mreturn\u001b[39;00m op\u001b[39m.\u001b[39;49mapply()\u001b[39m.\u001b[39m__finalize__(\u001b[39mself\u001b[39m, method\u001b[39m=\u001b[39m\u001b[39m\"\u001b[39m\u001b[39mapply\u001b[39m\u001b[39m\"\u001b[39m)\n",
      "File \u001b[0;32m/Library/Frameworks/Python.framework/Versions/3.10/lib/python3.10/site-packages/pandas/core/apply.py:678\u001b[0m, in \u001b[0;36mFrameApply.apply\u001b[0;34m(self)\u001b[0m\n\u001b[1;32m    675\u001b[0m \u001b[39melif\u001b[39;00m \u001b[39mself\u001b[39m\u001b[39m.\u001b[39mraw:\n\u001b[1;32m    676\u001b[0m     \u001b[39mreturn\u001b[39;00m \u001b[39mself\u001b[39m\u001b[39m.\u001b[39mapply_raw()\n\u001b[0;32m--> 678\u001b[0m \u001b[39mreturn\u001b[39;00m \u001b[39mself\u001b[39;49m\u001b[39m.\u001b[39;49mapply_standard()\n",
      "File \u001b[0;32m/Library/Frameworks/Python.framework/Versions/3.10/lib/python3.10/site-packages/pandas/core/apply.py:798\u001b[0m, in \u001b[0;36mFrameApply.apply_standard\u001b[0;34m(self)\u001b[0m\n\u001b[1;32m    797\u001b[0m \u001b[39mdef\u001b[39;00m \u001b[39mapply_standard\u001b[39m(\u001b[39mself\u001b[39m):\n\u001b[0;32m--> 798\u001b[0m     results, res_index \u001b[39m=\u001b[39m \u001b[39mself\u001b[39;49m\u001b[39m.\u001b[39;49mapply_series_generator()\n\u001b[1;32m    800\u001b[0m     \u001b[39m# wrap results\u001b[39;00m\n\u001b[1;32m    801\u001b[0m     \u001b[39mreturn\u001b[39;00m \u001b[39mself\u001b[39m\u001b[39m.\u001b[39mwrap_results(results, res_index)\n",
      "File \u001b[0;32m/Library/Frameworks/Python.framework/Versions/3.10/lib/python3.10/site-packages/pandas/core/apply.py:814\u001b[0m, in \u001b[0;36mFrameApply.apply_series_generator\u001b[0;34m(self)\u001b[0m\n\u001b[1;32m    811\u001b[0m \u001b[39mwith\u001b[39;00m option_context(\u001b[39m\"\u001b[39m\u001b[39mmode.chained_assignment\u001b[39m\u001b[39m\"\u001b[39m, \u001b[39mNone\u001b[39;00m):\n\u001b[1;32m    812\u001b[0m     \u001b[39mfor\u001b[39;00m i, v \u001b[39min\u001b[39;00m \u001b[39menumerate\u001b[39m(series_gen):\n\u001b[1;32m    813\u001b[0m         \u001b[39m# ignore SettingWithCopy here in case the user mutates\u001b[39;00m\n\u001b[0;32m--> 814\u001b[0m         results[i] \u001b[39m=\u001b[39m \u001b[39mself\u001b[39;49m\u001b[39m.\u001b[39;49mf(v)\n\u001b[1;32m    815\u001b[0m         \u001b[39mif\u001b[39;00m \u001b[39misinstance\u001b[39m(results[i], ABCSeries):\n\u001b[1;32m    816\u001b[0m             \u001b[39m# If we have a view on v, we need to make a copy because\u001b[39;00m\n\u001b[1;32m    817\u001b[0m             \u001b[39m#  series_generator will swap out the underlying data\u001b[39;00m\n\u001b[1;32m    818\u001b[0m             results[i] \u001b[39m=\u001b[39m results[i]\u001b[39m.\u001b[39mcopy(deep\u001b[39m=\u001b[39m\u001b[39mFalse\u001b[39;00m)\n",
      "\u001b[1;32m/Users/viniciusrosa/Desktop/Avaliação I-2023-2_final/Avalia‡ֶo I-2023-2_final.ipynb Cell 11\u001b[0m line \u001b[0;36m2\n\u001b[1;32m     <a href='vscode-notebook-cell:/Users/viniciusrosa/Desktop/Avalia%C3%A7%C3%A3o%20I-2023-2_final/Avalia%E2%80%A1%D6%B6o%20I-2023-2_final.ipynb#X13sZmlsZQ%3D%3D?line=15'>16</a>\u001b[0m \u001b[39mprint\u001b[39m(max_nota_por_curso)\n\u001b[1;32m     <a href='vscode-notebook-cell:/Users/viniciusrosa/Desktop/Avalia%C3%A7%C3%A3o%20I-2023-2_final/Avalia%E2%80%A1%D6%B6o%20I-2023-2_final.ipynb#X13sZmlsZQ%3D%3D?line=17'>18</a>\u001b[0m \u001b[39m# Aplicar a função de cálculo a cada linha do DataFrame\u001b[39;00m\n\u001b[1;32m     <a href='vscode-notebook-cell:/Users/viniciusrosa/Desktop/Avalia%C3%A7%C3%A3o%20I-2023-2_final/Avalia%E2%80%A1%D6%B6o%20I-2023-2_final.ipynb#X13sZmlsZQ%3D%3D?line=18'>19</a>\u001b[0m df_candidatos[\u001b[39m'\u001b[39m\u001b[39mmedia_final\u001b[39m\u001b[39m'\u001b[39m] \u001b[39m=\u001b[39m df_candidatos\u001b[39m.\u001b[39mapply(\n\u001b[0;32m---> <a href='vscode-notebook-cell:/Users/viniciusrosa/Desktop/Avalia%C3%A7%C3%A3o%20I-2023-2_final/Avalia%E2%80%A1%D6%B6o%20I-2023-2_final.ipynb#X13sZmlsZQ%3D%3D?line=19'>20</a>\u001b[0m     \u001b[39mlambda\u001b[39;00m row: calcular_media_final(row, max_nota_por_curso), axis\u001b[39m=\u001b[39m\u001b[39m1\u001b[39m\n\u001b[1;32m     <a href='vscode-notebook-cell:/Users/viniciusrosa/Desktop/Avalia%C3%A7%C3%A3o%20I-2023-2_final/Avalia%E2%80%A1%D6%B6o%20I-2023-2_final.ipynb#X13sZmlsZQ%3D%3D?line=20'>21</a>\u001b[0m )\n\u001b[1;32m     <a href='vscode-notebook-cell:/Users/viniciusrosa/Desktop/Avalia%C3%A7%C3%A3o%20I-2023-2_final/Avalia%E2%80%A1%D6%B6o%20I-2023-2_final.ipynb#X13sZmlsZQ%3D%3D?line=22'>23</a>\u001b[0m \u001b[39m# Ordene o DataFrame por curso e média final em ordem decrescente\u001b[39;00m\n\u001b[1;32m     <a href='vscode-notebook-cell:/Users/viniciusrosa/Desktop/Avalia%C3%A7%C3%A3o%20I-2023-2_final/Avalia%E2%80%A1%D6%B6o%20I-2023-2_final.ipynb#X13sZmlsZQ%3D%3D?line=23'>24</a>\u001b[0m df_ordenado \u001b[39m=\u001b[39m df_candidatos\u001b[39m.\u001b[39msort_values(by\u001b[39m=\u001b[39m[\u001b[39m'\u001b[39m\u001b[39mcurso\u001b[39m\u001b[39m'\u001b[39m, \u001b[39m'\u001b[39m\u001b[39mmedia_final\u001b[39m\u001b[39m'\u001b[39m], ascending\u001b[39m=\u001b[39m[\u001b[39mTrue\u001b[39;00m, \u001b[39mFalse\u001b[39;00m])\n",
      "\u001b[1;32m/Users/viniciusrosa/Desktop/Avaliação I-2023-2_final/Avalia‡ֶo I-2023-2_final.ipynb Cell 11\u001b[0m line \u001b[0;36m5\n\u001b[1;32m      <a href='vscode-notebook-cell:/Users/viniciusrosa/Desktop/Avalia%C3%A7%C3%A3o%20I-2023-2_final/Avalia%E2%80%A1%D6%B6o%20I-2023-2_final.ipynb#X13sZmlsZQ%3D%3D?line=2'>3</a>\u001b[0m nota_producao_bibliografica \u001b[39m=\u001b[39m \u001b[39mfloat\u001b[39m(row[\u001b[39m'\u001b[39m\u001b[39mnota_producao_bibliografica\u001b[39m\u001b[39m'\u001b[39m])\n\u001b[1;32m      <a href='vscode-notebook-cell:/Users/viniciusrosa/Desktop/Avalia%C3%A7%C3%A3o%20I-2023-2_final/Avalia%E2%80%A1%D6%B6o%20I-2023-2_final.ipynb#X13sZmlsZQ%3D%3D?line=3'>4</a>\u001b[0m nota_producao_tecnica_tecnologica \u001b[39m=\u001b[39m \u001b[39mfloat\u001b[39m(row[\u001b[39m'\u001b[39m\u001b[39mnota_producao_tecnica_tecnologica\u001b[39m\u001b[39m'\u001b[39m])\n\u001b[0;32m----> <a href='vscode-notebook-cell:/Users/viniciusrosa/Desktop/Avalia%C3%A7%C3%A3o%20I-2023-2_final/Avalia%E2%80%A1%D6%B6o%20I-2023-2_final.ipynb#X13sZmlsZQ%3D%3D?line=4'>5</a>\u001b[0m media_final \u001b[39m=\u001b[39m ((nota_cv \u001b[39m/\u001b[39;49m max_nota_por_curso[row[\u001b[39m'\u001b[39;49m\u001b[39mcurso\u001b[39;49m\u001b[39m'\u001b[39;49m]] \u001b[39m*\u001b[39m \u001b[39m10\u001b[39m) \u001b[39m*\u001b[39m \u001b[39m0.4\u001b[39m) \u001b[39m+\u001b[39m (nota_producao_bibliografica \u001b[39m*\u001b[39m \u001b[39m0.4\u001b[39m) \u001b[39m+\u001b[39m (nota_producao_tecnica_tecnologica \u001b[39m*\u001b[39m \u001b[39m0.2\u001b[39m) \n\u001b[1;32m      <a href='vscode-notebook-cell:/Users/viniciusrosa/Desktop/Avalia%C3%A7%C3%A3o%20I-2023-2_final/Avalia%E2%80%A1%D6%B6o%20I-2023-2_final.ipynb#X13sZmlsZQ%3D%3D?line=5'>6</a>\u001b[0m \u001b[39mreturn\u001b[39;00m media_final\n",
      "\u001b[0;31mTypeError\u001b[0m: unsupported operand type(s) for /: 'float' and 'str'"
     ]
    }
   ],
   "source": [
    "def calcular_media_final(row, max_nota_por_curso):\n",
    "    nota_cv = float(row['nota_cv'].replace(',', '.'))\n",
    "    nota_producao_bibliografica = float(row['nota_producao_bibliografica'])\n",
    "    nota_producao_tecnica_tecnologica = float(row['nota_producao_tecnica_tecnologica'])\n",
    "    media_final = ((nota_cv / max_nota_por_curso[row['curso']] * 10) * 0.4) + (nota_producao_bibliografica * 0.4) + (nota_producao_tecnica_tecnologica * 0.2) \n",
    "    return media_final\n",
    "\n",
    "df['nota_cv'] = df['nota_cv'].astype(str)\n",
    "\n",
    "df['nota_cv'] = df['nota_cv'].str.replace(',', '.')\n",
    "\n",
    "df['nota_cv'] = pd.to_numeric(df['nota_cv'], errors='coerce')\n",
    "\n",
    "max_nota_por_curso = df_candidatos.groupby('curso')['nota_cv'].max()\n",
    "\n",
    "print(max_nota_por_curso)\n",
    "\n",
    "# Aplicar a função de cálculo a cada linha do DataFrame\n",
    "df_candidatos['media_final'] = df_candidatos.apply(\n",
    "    lambda row: calcular_media_final(row, max_nota_por_curso), axis=1\n",
    ")\n",
    "\n",
    "# Ordene o DataFrame por curso e média final em ordem decrescente\n",
    "df_ordenado = df_candidatos.sort_values(by=['curso', 'media_final'], ascending=[True, False])\n",
    "\n",
    "# Selecione as colunas relevantes\n",
    "colunas_selecionadas = ['nome', 'curso', 'area', 'media_final']\n",
    "df_resultado = df_ordenado[colunas_selecionadas]\n",
    "\n",
    "# Salve o resultado em um arquivo CSV\n",
    "nome_arquivo_saida = 'Arquivos/Questão 2/candidatos.csv'\n",
    "df_resultado.to_csv(nome_arquivo_saida, index=False)\n",
    "\n",
    "# Exiba o DataFrame resultante (opcional)\n",
    "print(df_resultado)"
   ]
  },
  {
   "cell_type": "markdown",
   "metadata": {},
   "source": [
    "##### 5) Considerando os dados carregados no DataFrame da questão 2 crie duas análises. A primeira, agregando (realizando a soma ou média) por curso os dados da coluna \"media_final\". A segunda,  utilizando o conceito de tabela de pivoteamento com função de agregação de soma em que nas linhas deve constar a coluna \"curso\" e nas colunas deve constar a coluna \"area\". Para cada uma das análise apresente também gráficos de barras ou linhas (1,0).   "
   ]
  },
  {
   "cell_type": "code",
   "execution_count": 7,
   "metadata": {},
   "outputs": [
    {
     "ename": "NameError",
     "evalue": "name 'df_resultado' is not defined",
     "output_type": "error",
     "traceback": [
      "\u001b[0;31m---------------------------------------------------------------------------\u001b[0m",
      "\u001b[0;31mNameError\u001b[0m                                 Traceback (most recent call last)",
      "\u001b[1;32m/Users/viniciusrosa/Desktop/Avaliação I-2023-2_final/Avalia‡ֶo I-2023-2_final.ipynb Cell 13\u001b[0m line \u001b[0;36m1\n\u001b[0;32m----> <a href='vscode-notebook-cell:/Users/viniciusrosa/Desktop/Avalia%C3%A7%C3%A3o%20I-2023-2_final/Avalia%E2%80%A1%D6%B6o%20I-2023-2_final.ipynb#X15sZmlsZQ%3D%3D?line=0'>1</a>\u001b[0m analise1 \u001b[39m=\u001b[39m df_resultado\u001b[39m.\u001b[39mgroupby(\u001b[39m'\u001b[39m\u001b[39mcurso\u001b[39m\u001b[39m'\u001b[39m)[\u001b[39m'\u001b[39m\u001b[39mmedia_final\u001b[39m\u001b[39m'\u001b[39m]\u001b[39m.\u001b[39msum()\n\u001b[1;32m      <a href='vscode-notebook-cell:/Users/viniciusrosa/Desktop/Avalia%C3%A7%C3%A3o%20I-2023-2_final/Avalia%E2%80%A1%D6%B6o%20I-2023-2_final.ipynb#X15sZmlsZQ%3D%3D?line=1'>2</a>\u001b[0m analise1\u001b[39m.\u001b[39mplot(kind\u001b[39m=\u001b[39m\u001b[39m'\u001b[39m\u001b[39mbar\u001b[39m\u001b[39m'\u001b[39m, xlabel\u001b[39m=\u001b[39m\u001b[39m'\u001b[39m\u001b[39mCurso\u001b[39m\u001b[39m'\u001b[39m, ylabel\u001b[39m=\u001b[39m\u001b[39m'\u001b[39m\u001b[39mSoma da Média Final\u001b[39m\u001b[39m'\u001b[39m, title\u001b[39m=\u001b[39m\u001b[39m'\u001b[39m\u001b[39mSoma da Média Final por Curso\u001b[39m\u001b[39m'\u001b[39m)\n\u001b[1;32m      <a href='vscode-notebook-cell:/Users/viniciusrosa/Desktop/Avalia%C3%A7%C3%A3o%20I-2023-2_final/Avalia%E2%80%A1%D6%B6o%20I-2023-2_final.ipynb#X15sZmlsZQ%3D%3D?line=2'>3</a>\u001b[0m plt\u001b[39m.\u001b[39mxticks(rotation\u001b[39m=\u001b[39m\u001b[39m45\u001b[39m)\n",
      "\u001b[0;31mNameError\u001b[0m: name 'df_resultado' is not defined"
     ]
    }
   ],
   "source": [
    "\n",
    "analise1 = df_resultado.groupby('curso')['media_final'].sum()\n",
    "analise1.plot(kind='bar', xlabel='Curso', ylabel='Soma da Média Final', title='Soma da Média Final por Curso')\n",
    "plt.xticks(rotation=45)\n",
    "plt.show()\n",
    "\n",
    "tabela_pivot = pd.pivot_table(df_resultado, values='media_final', index='curso', columns='area', aggfunc='sum', fill_value=0)\n",
    "tabela_pivot.plot(kind='bar', stacked=True, xlabel='Curso', ylabel='Soma da Média Final', title='Soma da Média Final por Curso e Área')\n",
    "plt.xticks(rotation=45)\n",
    "plt.show()"
   ]
  },
  {
   "cell_type": "markdown",
   "metadata": {},
   "source": [
    "##### 6) Considerando o DataFrame da questão 2 agrege os dados das colunas tematica_1, tematica_2, tematica_3, tematica_4, tematica_5 por meio de uma contagem, de modo que, ao final, seja produzido um histograma ordenado pela frequência em ordem decrescente. Apresente as 7 temáticas mais frequentes na tela e também na forma de um gráfico de barras (1,5).\n",
    "\n",
    "Exempo:\n",
    "\n",
    "Temática 2 - 3<br>\n",
    "Temática 4 - 2<br>\n",
    "Temática 5 - 2<br>\n",
    "...."
   ]
  },
  {
   "cell_type": "code",
   "execution_count": 8,
   "metadata": {},
   "outputs": [
    {
     "ename": "NameError",
     "evalue": "name 'df_candidatos' is not defined",
     "output_type": "error",
     "traceback": [
      "\u001b[0;31m---------------------------------------------------------------------------\u001b[0m",
      "\u001b[0;31mNameError\u001b[0m                                 Traceback (most recent call last)",
      "\u001b[1;32m/Users/viniciusrosa/Desktop/Avaliação I-2023-2_final/Avalia‡ֶo I-2023-2_final.ipynb Cell 15\u001b[0m line \u001b[0;36m2\n\u001b[1;32m      <a href='vscode-notebook-cell:/Users/viniciusrosa/Desktop/Avalia%C3%A7%C3%A3o%20I-2023-2_final/Avalia%E2%80%A1%D6%B6o%20I-2023-2_final.ipynb#X20sZmlsZQ%3D%3D?line=0'>1</a>\u001b[0m \u001b[39m# Concatenar as colunas tematica_1 a tematica_5 em uma única série\u001b[39;00m\n\u001b[0;32m----> <a href='vscode-notebook-cell:/Users/viniciusrosa/Desktop/Avalia%C3%A7%C3%A3o%20I-2023-2_final/Avalia%E2%80%A1%D6%B6o%20I-2023-2_final.ipynb#X20sZmlsZQ%3D%3D?line=1'>2</a>\u001b[0m tematicas \u001b[39m=\u001b[39m pd\u001b[39m.\u001b[39mconcat([df_candidatos[\u001b[39m'\u001b[39m\u001b[39mtematica_1\u001b[39m\u001b[39m'\u001b[39m], df_candidatos[\u001b[39m'\u001b[39m\u001b[39mtematica_2\u001b[39m\u001b[39m'\u001b[39m], df_candidatos[\u001b[39m'\u001b[39m\u001b[39mtematica_3\u001b[39m\u001b[39m'\u001b[39m], df_candidatos[\u001b[39m'\u001b[39m\u001b[39mtematica_4\u001b[39m\u001b[39m'\u001b[39m], df_candidatos[\u001b[39m'\u001b[39m\u001b[39mtematica_5\u001b[39m\u001b[39m'\u001b[39m]])\n\u001b[1;32m      <a href='vscode-notebook-cell:/Users/viniciusrosa/Desktop/Avalia%C3%A7%C3%A3o%20I-2023-2_final/Avalia%E2%80%A1%D6%B6o%20I-2023-2_final.ipynb#X20sZmlsZQ%3D%3D?line=3'>4</a>\u001b[0m \u001b[39m# Usar expressão regular para extrair o número da temática\u001b[39;00m\n\u001b[1;32m      <a href='vscode-notebook-cell:/Users/viniciusrosa/Desktop/Avalia%C3%A7%C3%A3o%20I-2023-2_final/Avalia%E2%80%A1%D6%B6o%20I-2023-2_final.ipynb#X20sZmlsZQ%3D%3D?line=4'>5</a>\u001b[0m tematicas \u001b[39m=\u001b[39m tematicas\u001b[39m.\u001b[39mstr\u001b[39m.\u001b[39mextract(\u001b[39mr\u001b[39m\u001b[39m'\u001b[39m\u001b[39m(\u001b[39m\u001b[39m\\\u001b[39m\u001b[39md+)\u001b[39m\u001b[39m'\u001b[39m)\u001b[39m.\u001b[39mreplace(\u001b[39m\"\u001b[39m\u001b[39m'\u001b[39m\u001b[39m\"\u001b[39m, \u001b[39m\"\u001b[39m\u001b[39m\"\u001b[39m)\u001b[39m.\u001b[39mreplace(\u001b[39m\"\u001b[39m\u001b[39m,\u001b[39m\u001b[39m\"\u001b[39m, \u001b[39m\"\u001b[39m\u001b[39m\"\u001b[39m)\u001b[39m.\u001b[39mastype(\u001b[39mint\u001b[39m)\n",
      "\u001b[0;31mNameError\u001b[0m: name 'df_candidatos' is not defined"
     ]
    }
   ],
   "source": [
    "\n",
    "# Concatenar as colunas tematica_1 a tematica_5 em uma única série\n",
    "tematicas = pd.concat([df_candidatos['tematica_1'], df_candidatos['tematica_2'], df_candidatos['tematica_3'], df_candidatos['tematica_4'], df_candidatos['tematica_5']])\n",
    "\n",
    "# Usar expressão regular para extrair o número da temática\n",
    "tematicas = tematicas.str.extract(r'(\\d+)').replace(\"'\", \"\").replace(\",\", \"\").astype(int)\n",
    "\n",
    "# Contagem das temáticas\n",
    "contagem_temáticas = tematicas.value_counts()\n",
    "\n",
    "# Selecionar as 7 temáticas mais frequentes\n",
    "top_7_temáticas = contagem_temáticas.head(7)\n",
    "\n",
    "# Gráfico de barras para as 7 temáticas mais frequentes\n",
    "top_7_temáticas.plot(kind='bar', xlabel='Temática', ylabel='Frequência', title='Top 7 Temáticas Mais Frequentes')\n",
    "plt.xticks(rotation=45)\n",
    "plt.show()\n",
    "\n",
    "# Apresentar as 7 temáticas mais frequentes na tela\n",
    "print(\"As 7 temáticas mais frequentes:\")\n",
    "for tematica, frequencia in top_7_temáticas.items():\n",
    "    print(f\"Temática {tematica[0]:<3} - {frequencia}\")"
   ]
  },
  {
   "cell_type": "markdown",
   "metadata": {},
   "source": [
    "##### 7) Carregue o arquivo movie.csv. Após isso, para cada valor distinto na coluna genres (que devem ser separados cada vez que o caracter | ocorre) gere novas colunas e incorpore ao conjunto original atribuíndo 1. Após isso recupere o conteúdo de um intervalo de linhas do conjunto de dados (1,0)."
   ]
  },
  {
   "cell_type": "code",
   "execution_count": 15,
   "metadata": {},
   "outputs": [
    {
     "name": "stdout",
     "output_type": "stream",
     "text": [
      "                                   movie  Action  Adventure  Animation  \\\n",
      "id                                                                       \n",
      "1                       Toy Story (1995)       0          0          1   \n",
      "2                         Jumanji (1995)       0          1          0   \n",
      "3                Grumpier Old Men (1995)       0          0          0   \n",
      "4               Waiting to Exhale (1995)       0          0          0   \n",
      "5     Father of the Bride Part II (1995)       0          0          0   \n",
      "...                                  ...     ...        ...        ...   \n",
      "3948             Meet the Parents (2000)       0          0          0   \n",
      "3949          Requiem for a Dream (2000)       0          0          0   \n",
      "3950                    Tigerland (2000)       0          0          0   \n",
      "3951             Two Family House (2000)       0          0          0   \n",
      "3952               Contender, The (2000)       0          0          0   \n",
      "\n",
      "      Children's  Comedy  Crime  Documentary  Drama  Fantasy  Film-Noir  \\\n",
      "id                                                                        \n",
      "1              1       1      0            0      0        0          0   \n",
      "2              1       0      0            0      0        1          0   \n",
      "3              0       1      0            0      0        0          0   \n",
      "4              0       1      0            0      1        0          0   \n",
      "5              0       1      0            0      0        0          0   \n",
      "...          ...     ...    ...          ...    ...      ...        ...   \n",
      "3948           0       1      0            0      0        0          0   \n",
      "3949           0       0      0            0      1        0          0   \n",
      "3950           0       0      0            0      1        0          0   \n",
      "3951           0       0      0            0      1        0          0   \n",
      "3952           0       0      0            0      1        0          0   \n",
      "\n",
      "      Horror  Musical  Mystery  Romance  Sci-Fi  Thriller  War  Western  \n",
      "id                                                                       \n",
      "1          0        0        0        0       0         0    0        0  \n",
      "2          0        0        0        0       0         0    0        0  \n",
      "3          0        0        0        1       0         0    0        0  \n",
      "4          0        0        0        0       0         0    0        0  \n",
      "5          0        0        0        0       0         0    0        0  \n",
      "...      ...      ...      ...      ...     ...       ...  ...      ...  \n",
      "3948       0        0        0        0       0         0    0        0  \n",
      "3949       0        0        0        0       0         0    0        0  \n",
      "3950       0        0        0        0       0         0    0        0  \n",
      "3951       0        0        0        0       0         0    0        0  \n",
      "3952       0        0        0        0       0         1    0        0  \n",
      "\n",
      "[3861 rows x 19 columns]\n",
      "                                                movie  Action  Adventure  \\\n",
      "id                                                                         \n",
      "11                     American President, The (1995)       0          0   \n",
      "12                 Dracula: Dead and Loving It (1995)       0          0   \n",
      "13                                       Balto (1995)       0          0   \n",
      "14                                       Nixon (1995)       0          0   \n",
      "15                            Cutthroat Island (1995)       1          1   \n",
      "16                                      Casino (1995)       0          0   \n",
      "17                       Sense and Sensibility (1995)       0          0   \n",
      "18                                  Four Rooms (1995)       0          0   \n",
      "19               Ace Ventura:When Nature Calls (1995)       0          0   \n",
      "20                                 Money Train (1995)       1          0   \n",
      "21                                  Get Shorty (1995)       1          0   \n",
      "22                                     Copycat (1995)       0          0   \n",
      "23                                   Assassins (1995)       0          0   \n",
      "24                                      Powder (1995)       0          0   \n",
      "25                           Leaving Las Vegas (1995)       0          0   \n",
      "26                                     Othello (1995)       0          0   \n",
      "27                                Now and Then (1995)       0          0   \n",
      "28                                  Persuasion (1995)       0          0   \n",
      "29                  City of Lost Children, The (1995)       0          1   \n",
      "30  Shanghai Triad (Yao a yao yao dao waipo qiao) ...       0          0   \n",
      "\n",
      "    Animation  Children's  Comedy  Crime  Documentary  Drama  Fantasy  \\\n",
      "id                                                                      \n",
      "11          0           0       1      0            0      1        0   \n",
      "12          0           0       1      0            0      0        0   \n",
      "13          1           1       0      0            0      0        0   \n",
      "14          0           0       0      0            0      1        0   \n",
      "15          0           0       0      0            0      0        0   \n",
      "16          0           0       0      0            0      1        0   \n",
      "17          0           0       0      0            0      1        0   \n",
      "18          0           0       0      0            0      0        0   \n",
      "19          0           0       1      0            0      0        0   \n",
      "20          0           0       0      0            0      0        0   \n",
      "21          0           0       1      0            0      1        0   \n",
      "22          0           0       0      1            0      1        0   \n",
      "23          0           0       0      0            0      0        0   \n",
      "24          0           0       0      0            0      1        0   \n",
      "25          0           0       0      0            0      1        0   \n",
      "26          0           0       0      0            0      1        0   \n",
      "27          0           0       0      0            0      1        0   \n",
      "28          0           0       0      0            0      0        0   \n",
      "29          0           0       0      0            0      0        0   \n",
      "30          0           0       0      0            0      1        0   \n",
      "\n",
      "    Film-Noir  Horror  Musical  Mystery  Romance  Sci-Fi  Thriller  War  \\\n",
      "id                                                                        \n",
      "11          0       0        0        0        1       0         0    0   \n",
      "12          0       1        0        0        0       0         0    0   \n",
      "13          0       0        0        0        0       0         0    0   \n",
      "14          0       0        0        0        0       0         0    0   \n",
      "15          0       0        0        0        1       0         0    0   \n",
      "16          0       0        0        0        0       0         1    0   \n",
      "17          0       0        0        0        1       0         0    0   \n",
      "18          0       0        0        0        0       0         1    0   \n",
      "19          0       0        0        0        0       0         0    0   \n",
      "20          0       0        0        0        0       0         0    0   \n",
      "21          0       0        0        0        0       0         0    0   \n",
      "22          0       0        0        0        0       0         1    0   \n",
      "23          0       0        0        0        0       0         1    0   \n",
      "24          0       0        0        0        0       1         0    0   \n",
      "25          0       0        0        0        1       0         0    0   \n",
      "26          0       0        0        0        0       0         0    0   \n",
      "27          0       0        0        0        0       0         0    0   \n",
      "28          0       0        0        0        1       0         0    0   \n",
      "29          0       0        0        0        0       1         0    0   \n",
      "30          0       0        0        0        0       0         0    0   \n",
      "\n",
      "    Western  \n",
      "id           \n",
      "11        0  \n",
      "12        0  \n",
      "13        0  \n",
      "14        0  \n",
      "15        0  \n",
      "16        0  \n",
      "17        0  \n",
      "18        0  \n",
      "19        0  \n",
      "20        0  \n",
      "21        0  \n",
      "22        0  \n",
      "23        0  \n",
      "24        0  \n",
      "25        0  \n",
      "26        0  \n",
      "27        0  \n",
      "28        0  \n",
      "29        0  \n",
      "30        0  \n"
     ]
    }
   ],
   "source": [
    "df = pd.read_csv('Arquivos/Questão 7/movie.csv', on_bad_lines='skip', sep=\";\")\n",
    "df_reset=df.set_index('id')\n",
    "\n",
    "if '|' in df.iloc[:, -1].str.cat(sep=' '):\n",
    "    genres = df_reset.iloc[:, -1].str.get_dummies('|')\n",
    "\n",
    "    df_reset = pd.concat([df_reset, genres], axis=1)\n",
    "\n",
    "    df_reset = df_reset.drop(df.columns[-1], axis=1)\n",
    "\n",
    "intervalo_linhas = df_reset.iloc[10:30]\n",
    "\n",
    "print(df_reset)\n",
    "print(intervalo_linhas)"
   ]
  },
  {
   "cell_type": "markdown",
   "metadata": {},
   "source": [
    "##### 8) Considerado o conjunto tae.csv e as bibliotecas em Python apresentadas na disciplina, elabore uma árvore de decisão. Após isso reduza a profundidade da árvore. Apresente a acurácia inicial e após a redução da profundidade. Analisando a árvore gerada apresente/escreva duas regras. O conjunto de dados representa avaliações de desempenho no ensino ao longo de alguns semestres e possui as colunas 'ta_native', 'course_instr', 'course', 'summer_regular', 'class_size' e 'label'. A coluna ‘label’ representa o atributo meta, ou seja, o objetivo da classificação (1,0). "
   ]
  },
  {
   "cell_type": "code",
   "execution_count": 16,
   "metadata": {},
   "outputs": [
    {
     "name": "stdout",
     "output_type": "stream",
     "text": [
      "Accuracy: 0.639344262295082\n",
      "Acurácia após Redução: 0.5081967213114754\n"
     ]
    }
   ],
   "source": [
    "nova_coluna = ['ta_native', 'course_instr', 'course', 'summer_regular', 'class_size', 'label']\n",
    "df_tae = pd.read_csv(\"Arquivos/Questão 8/tae.csv\", header=None, names=nova_coluna)\n",
    "df_tae.head()\n",
    "\n",
    "from sklearn.tree import DecisionTreeClassifier \n",
    "from sklearn.model_selection import train_test_split \n",
    "from sklearn import metrics \n",
    "\n",
    "X = df_tae[['ta_native', 'course_instr', 'course', 'summer_regular', 'class_size']]\n",
    "y = df_tae['label']\n",
    "\n",
    "X_train, X_test, y_train, y_test = train_test_split(X, y, test_size=0.4, random_state=1)\n",
    "# print(X_train)\n",
    "# print(X_test)\n",
    "# print(y_train)\n",
    "# print(y_test)\n",
    "\n",
    "tree_classifier = DecisionTreeClassifier(random_state=1)\n",
    "\n",
    "tree_classifier.fit(X_train, y_train)\n",
    "\n",
    "y_pred = tree_classifier.predict(X_test)\n",
    "\n",
    "\n",
    "print(\"Accuracy:\",metrics.accuracy_score(y_test, y_pred)) \n",
    "\n",
    "tree_classifier_reduced = DecisionTreeClassifier(max_depth=3, random_state=1)\n",
    "\n",
    "tree_classifier_reduced.fit(X_train, y_train)\n",
    "\n",
    "y_pred_reduced = tree_classifier_reduced.predict(X_test)\n",
    "\n",
    "reduced_accuracy = metrics.accuracy_score(y_test, y_pred_reduced)\n",
    "\n",
    "print(f\"Acurácia após Redução: {reduced_accuracy}\")\n",
    "\n"
   ]
  },
  {
   "cell_type": "markdown",
   "metadata": {},
   "source": [
    "##### 9) Utilizando o conjunto de dados (wine.csv) e as bibliotecas em Python apresentadas na disciplina, elabore um algoritmo de aprendizado de máquina do tipo Random Forest. Apresenta a acurácia inicial do modelo. Na sequência calcule a contribuição de cada característica e realize novamente o treinamento e o teste sem algumas das características menos importantes, apresentando no final a nova acurácia (1,0). "
   ]
  },
  {
   "cell_type": "code",
   "execution_count": 34,
   "metadata": {},
   "outputs": [
    {
     "name": "stdout",
     "output_type": "stream",
     "text": [
      "['class_0' 'class_1' 'class_2']\n",
      "['alcohol', 'malic_acid', 'ash', 'alcalinity_of_ash', 'magnesium', 'total_phenols', 'flavanoids', 'nonflavanoid_phenols', 'proanthocyanins', 'color_intensity', 'hue', 'od280/od315_of_diluted_wines', 'proline']\n",
      "[[1.423e+01 1.710e+00 2.430e+00 1.560e+01 1.270e+02 2.800e+00 3.060e+00\n",
      "  2.800e-01 2.290e+00 5.640e+00 1.040e+00 3.920e+00 1.065e+03]\n",
      " [1.320e+01 1.780e+00 2.140e+00 1.120e+01 1.000e+02 2.650e+00 2.760e+00\n",
      "  2.600e-01 1.280e+00 4.380e+00 1.050e+00 3.400e+00 1.050e+03]\n",
      " [1.316e+01 2.360e+00 2.670e+00 1.860e+01 1.010e+02 2.800e+00 3.240e+00\n",
      "  3.000e-01 2.810e+00 5.680e+00 1.030e+00 3.170e+00 1.185e+03]\n",
      " [1.437e+01 1.950e+00 2.500e+00 1.680e+01 1.130e+02 3.850e+00 3.490e+00\n",
      "  2.400e-01 2.180e+00 7.800e+00 8.600e-01 3.450e+00 1.480e+03]\n",
      " [1.324e+01 2.590e+00 2.870e+00 2.100e+01 1.180e+02 2.800e+00 2.690e+00\n",
      "  3.900e-01 1.820e+00 4.320e+00 1.040e+00 2.930e+00 7.350e+02]]\n",
      "[0 0 0 0 0 0 0 0 0 0 0 0 0 0 0 0 0 0 0 0 0 0 0 0 0 0 0 0 0 0 0 0 0 0 0 0 0\n",
      " 0 0 0 0 0 0 0 0 0 0 0 0 0 0 0 0 0 0 0 0 0 0 1 1 1 1 1 1 1 1 1 1 1 1 1 1 1\n",
      " 1 1 1 1 1 1 1 1 1 1 1 1 1 1 1 1 1 1 1 1 1 1 1 1 1 1 1 1 1 1 1 1 1 1 1 1 1\n",
      " 1 1 1 1 1 1 1 1 1 1 1 1 1 1 1 1 1 1 1 2 2 2 2 2 2 2 2 2 2 2 2 2 2 2 2 2 2\n",
      " 2 2 2 2 2 2 2 2 2 2 2 2 2 2 2 2 2 2 2 2 2 2 2 2 2 2 2 2 2 2]\n",
      "Accuracy: 1.0\n"
     ]
    }
   ],
   "source": [
    "from sklearn.ensemble import RandomForestClassifier\n",
    "from sklearn.model_selection import train_test_split\n",
    "from sklearn.metrics import accuracy_score\n",
    "from sklearn import datasets\n",
    "import matplotlib.pyplot as plt\n",
    "%matplotlib inline\n",
    "\n",
    "wine = datasets.load_wine()\n",
    "\n",
    "print(wine.target_names)\n",
    "\n",
    "print(wine.feature_names)\n",
    "\n",
    "print(wine.data[0:5])\n",
    "\n",
    "print(wine.target)\n",
    "\n",
    "\n",
    "X = wine.data\n",
    "y = wine.target\n",
    "\n",
    "X_train, X_test, y_train, y_test = train_test_split(X, y, test_size=0.2)\n",
    "\n",
    "random_forest = RandomForestClassifier(n_estimators=100)\n",
    "random_forest.fit(X_train, y_train)\n",
    "\n",
    "y_pred=random_forest.predict(X_test)\n",
    "print(\"Accuracy:\",metrics.accuracy_score(y_test, y_pred))"
   ]
  },
  {
   "cell_type": "code",
   "execution_count": 36,
   "metadata": {},
   "outputs": [
    {
     "data": {
      "text/html": [
       "<style>#sk-container-id-2 {color: black;}#sk-container-id-2 pre{padding: 0;}#sk-container-id-2 div.sk-toggleable {background-color: white;}#sk-container-id-2 label.sk-toggleable__label {cursor: pointer;display: block;width: 100%;margin-bottom: 0;padding: 0.3em;box-sizing: border-box;text-align: center;}#sk-container-id-2 label.sk-toggleable__label-arrow:before {content: \"▸\";float: left;margin-right: 0.25em;color: #696969;}#sk-container-id-2 label.sk-toggleable__label-arrow:hover:before {color: black;}#sk-container-id-2 div.sk-estimator:hover label.sk-toggleable__label-arrow:before {color: black;}#sk-container-id-2 div.sk-toggleable__content {max-height: 0;max-width: 0;overflow: hidden;text-align: left;background-color: #f0f8ff;}#sk-container-id-2 div.sk-toggleable__content pre {margin: 0.2em;color: black;border-radius: 0.25em;background-color: #f0f8ff;}#sk-container-id-2 input.sk-toggleable__control:checked~div.sk-toggleable__content {max-height: 200px;max-width: 100%;overflow: auto;}#sk-container-id-2 input.sk-toggleable__control:checked~label.sk-toggleable__label-arrow:before {content: \"▾\";}#sk-container-id-2 div.sk-estimator input.sk-toggleable__control:checked~label.sk-toggleable__label {background-color: #d4ebff;}#sk-container-id-2 div.sk-label input.sk-toggleable__control:checked~label.sk-toggleable__label {background-color: #d4ebff;}#sk-container-id-2 input.sk-hidden--visually {border: 0;clip: rect(1px 1px 1px 1px);clip: rect(1px, 1px, 1px, 1px);height: 1px;margin: -1px;overflow: hidden;padding: 0;position: absolute;width: 1px;}#sk-container-id-2 div.sk-estimator {font-family: monospace;background-color: #f0f8ff;border: 1px dotted black;border-radius: 0.25em;box-sizing: border-box;margin-bottom: 0.5em;}#sk-container-id-2 div.sk-estimator:hover {background-color: #d4ebff;}#sk-container-id-2 div.sk-parallel-item::after {content: \"\";width: 100%;border-bottom: 1px solid gray;flex-grow: 1;}#sk-container-id-2 div.sk-label:hover label.sk-toggleable__label {background-color: #d4ebff;}#sk-container-id-2 div.sk-serial::before {content: \"\";position: absolute;border-left: 1px solid gray;box-sizing: border-box;top: 0;bottom: 0;left: 50%;z-index: 0;}#sk-container-id-2 div.sk-serial {display: flex;flex-direction: column;align-items: center;background-color: white;padding-right: 0.2em;padding-left: 0.2em;position: relative;}#sk-container-id-2 div.sk-item {position: relative;z-index: 1;}#sk-container-id-2 div.sk-parallel {display: flex;align-items: stretch;justify-content: center;background-color: white;position: relative;}#sk-container-id-2 div.sk-item::before, #sk-container-id-2 div.sk-parallel-item::before {content: \"\";position: absolute;border-left: 1px solid gray;box-sizing: border-box;top: 0;bottom: 0;left: 50%;z-index: -1;}#sk-container-id-2 div.sk-parallel-item {display: flex;flex-direction: column;z-index: 1;position: relative;background-color: white;}#sk-container-id-2 div.sk-parallel-item:first-child::after {align-self: flex-end;width: 50%;}#sk-container-id-2 div.sk-parallel-item:last-child::after {align-self: flex-start;width: 50%;}#sk-container-id-2 div.sk-parallel-item:only-child::after {width: 0;}#sk-container-id-2 div.sk-dashed-wrapped {border: 1px dashed gray;margin: 0 0.4em 0.5em 0.4em;box-sizing: border-box;padding-bottom: 0.4em;background-color: white;}#sk-container-id-2 div.sk-label label {font-family: monospace;font-weight: bold;display: inline-block;line-height: 1.2em;}#sk-container-id-2 div.sk-label-container {text-align: center;}#sk-container-id-2 div.sk-container {/* jupyter's `normalize.less` sets `[hidden] { display: none; }` but bootstrap.min.css set `[hidden] { display: none !important; }` so we also need the `!important` here to be able to override the default hidden behavior on the sphinx rendered scikit-learn.org. See: https://github.com/scikit-learn/scikit-learn/issues/21755 */display: inline-block !important;position: relative;}#sk-container-id-2 div.sk-text-repr-fallback {display: none;}</style><div id=\"sk-container-id-2\" class=\"sk-top-container\"><div class=\"sk-text-repr-fallback\"><pre>RandomForestClassifier()</pre><b>In a Jupyter environment, please rerun this cell to show the HTML representation or trust the notebook. <br />On GitHub, the HTML representation is unable to render, please try loading this page with nbviewer.org.</b></div><div class=\"sk-container\" hidden><div class=\"sk-item\"><div class=\"sk-estimator sk-toggleable\"><input class=\"sk-toggleable__control sk-hidden--visually\" id=\"sk-estimator-id-2\" type=\"checkbox\" checked><label for=\"sk-estimator-id-2\" class=\"sk-toggleable__label sk-toggleable__label-arrow\">RandomForestClassifier</label><div class=\"sk-toggleable__content\"><pre>RandomForestClassifier()</pre></div></div></div></div></div>"
      ],
      "text/plain": [
       "RandomForestClassifier()"
      ]
     },
     "execution_count": 36,
     "metadata": {},
     "output_type": "execute_result"
    }
   ],
   "source": [
    "\n",
    "# Cria o classificador\n",
    "clf=RandomForestClassifier(n_estimators=100)\n",
    "\n",
    "# Treina o modelo usando os conjuntos de treinamento (características e rótulo para predição)\n",
    "clf.fit(X_train,y_train)"
   ]
  },
  {
   "cell_type": "code",
   "execution_count": 38,
   "metadata": {},
   "outputs": [
    {
     "data": {
      "text/html": [
       "<style>#sk-container-id-3 {color: black;}#sk-container-id-3 pre{padding: 0;}#sk-container-id-3 div.sk-toggleable {background-color: white;}#sk-container-id-3 label.sk-toggleable__label {cursor: pointer;display: block;width: 100%;margin-bottom: 0;padding: 0.3em;box-sizing: border-box;text-align: center;}#sk-container-id-3 label.sk-toggleable__label-arrow:before {content: \"▸\";float: left;margin-right: 0.25em;color: #696969;}#sk-container-id-3 label.sk-toggleable__label-arrow:hover:before {color: black;}#sk-container-id-3 div.sk-estimator:hover label.sk-toggleable__label-arrow:before {color: black;}#sk-container-id-3 div.sk-toggleable__content {max-height: 0;max-width: 0;overflow: hidden;text-align: left;background-color: #f0f8ff;}#sk-container-id-3 div.sk-toggleable__content pre {margin: 0.2em;color: black;border-radius: 0.25em;background-color: #f0f8ff;}#sk-container-id-3 input.sk-toggleable__control:checked~div.sk-toggleable__content {max-height: 200px;max-width: 100%;overflow: auto;}#sk-container-id-3 input.sk-toggleable__control:checked~label.sk-toggleable__label-arrow:before {content: \"▾\";}#sk-container-id-3 div.sk-estimator input.sk-toggleable__control:checked~label.sk-toggleable__label {background-color: #d4ebff;}#sk-container-id-3 div.sk-label input.sk-toggleable__control:checked~label.sk-toggleable__label {background-color: #d4ebff;}#sk-container-id-3 input.sk-hidden--visually {border: 0;clip: rect(1px 1px 1px 1px);clip: rect(1px, 1px, 1px, 1px);height: 1px;margin: -1px;overflow: hidden;padding: 0;position: absolute;width: 1px;}#sk-container-id-3 div.sk-estimator {font-family: monospace;background-color: #f0f8ff;border: 1px dotted black;border-radius: 0.25em;box-sizing: border-box;margin-bottom: 0.5em;}#sk-container-id-3 div.sk-estimator:hover {background-color: #d4ebff;}#sk-container-id-3 div.sk-parallel-item::after {content: \"\";width: 100%;border-bottom: 1px solid gray;flex-grow: 1;}#sk-container-id-3 div.sk-label:hover label.sk-toggleable__label {background-color: #d4ebff;}#sk-container-id-3 div.sk-serial::before {content: \"\";position: absolute;border-left: 1px solid gray;box-sizing: border-box;top: 0;bottom: 0;left: 50%;z-index: 0;}#sk-container-id-3 div.sk-serial {display: flex;flex-direction: column;align-items: center;background-color: white;padding-right: 0.2em;padding-left: 0.2em;position: relative;}#sk-container-id-3 div.sk-item {position: relative;z-index: 1;}#sk-container-id-3 div.sk-parallel {display: flex;align-items: stretch;justify-content: center;background-color: white;position: relative;}#sk-container-id-3 div.sk-item::before, #sk-container-id-3 div.sk-parallel-item::before {content: \"\";position: absolute;border-left: 1px solid gray;box-sizing: border-box;top: 0;bottom: 0;left: 50%;z-index: -1;}#sk-container-id-3 div.sk-parallel-item {display: flex;flex-direction: column;z-index: 1;position: relative;background-color: white;}#sk-container-id-3 div.sk-parallel-item:first-child::after {align-self: flex-end;width: 50%;}#sk-container-id-3 div.sk-parallel-item:last-child::after {align-self: flex-start;width: 50%;}#sk-container-id-3 div.sk-parallel-item:only-child::after {width: 0;}#sk-container-id-3 div.sk-dashed-wrapped {border: 1px dashed gray;margin: 0 0.4em 0.5em 0.4em;box-sizing: border-box;padding-bottom: 0.4em;background-color: white;}#sk-container-id-3 div.sk-label label {font-family: monospace;font-weight: bold;display: inline-block;line-height: 1.2em;}#sk-container-id-3 div.sk-label-container {text-align: center;}#sk-container-id-3 div.sk-container {/* jupyter's `normalize.less` sets `[hidden] { display: none; }` but bootstrap.min.css set `[hidden] { display: none !important; }` so we also need the `!important` here to be able to override the default hidden behavior on the sphinx rendered scikit-learn.org. See: https://github.com/scikit-learn/scikit-learn/issues/21755 */display: inline-block !important;position: relative;}#sk-container-id-3 div.sk-text-repr-fallback {display: none;}</style><div id=\"sk-container-id-3\" class=\"sk-top-container\"><div class=\"sk-text-repr-fallback\"><pre>RandomForestClassifier(max_features=&#x27;auto&#x27;, n_jobs=2)</pre><b>In a Jupyter environment, please rerun this cell to show the HTML representation or trust the notebook. <br />On GitHub, the HTML representation is unable to render, please try loading this page with nbviewer.org.</b></div><div class=\"sk-container\" hidden><div class=\"sk-item\"><div class=\"sk-estimator sk-toggleable\"><input class=\"sk-toggleable__control sk-hidden--visually\" id=\"sk-estimator-id-3\" type=\"checkbox\" checked><label for=\"sk-estimator-id-3\" class=\"sk-toggleable__label sk-toggleable__label-arrow\">RandomForestClassifier</label><div class=\"sk-toggleable__content\"><pre>RandomForestClassifier(max_features=&#x27;auto&#x27;, n_jobs=2)</pre></div></div></div></div></div>"
      ],
      "text/plain": [
       "RandomForestClassifier(max_features='auto', n_jobs=2)"
      ]
     },
     "execution_count": 38,
     "metadata": {},
     "output_type": "execute_result"
    }
   ],
   "source": [
    "#n_jobs=2\n",
    "RandomForestClassifier(bootstrap=True, class_weight=None, criterion='gini',\n",
    "            max_depth=None, max_features='auto', max_leaf_nodes=None,\n",
    "            min_impurity_decrease=0.0,\n",
    "            min_samples_leaf=1, min_samples_split=2,\n",
    "            min_weight_fraction_leaf=0.0, n_estimators=100, n_jobs=2,\n",
    "            oob_score=False, random_state=None, verbose=0,\n",
    "            warm_start=False)"
   ]
  },
  {
   "cell_type": "code",
   "execution_count": 40,
   "metadata": {},
   "outputs": [
    {
     "name": "stdout",
     "output_type": "stream",
     "text": [
      "['alcohol', 'malic_acid', 'ash', 'alcalinity_of_ash', 'magnesium', 'total_phenols', 'flavanoids', 'nonflavanoid_phenols', 'proanthocyanins', 'color_intensity', 'hue', 'od280/od315_of_diluted_wines', 'proline']\n"
     ]
    },
    {
     "data": {
      "text/plain": [
       "proline                         0.168602\n",
       "color_intensity                 0.141152\n",
       "alcohol                         0.140656\n",
       "od280/od315_of_diluted_wines    0.134560\n",
       "flavanoids                      0.123982\n",
       "hue                             0.109608\n",
       "total_phenols                   0.051669\n",
       "magnesium                       0.038119\n",
       "malic_acid                      0.022111\n",
       "alcalinity_of_ash               0.021715\n",
       "proanthocyanins                 0.020276\n",
       "ash                             0.018087\n",
       "nonflavanoid_phenols            0.009464\n",
       "dtype: float64"
      ]
     },
     "execution_count": 40,
     "metadata": {},
     "output_type": "execute_result"
    }
   ],
   "source": [
    "print(wine.feature_names)\n",
    "feature_imp = pd.Series(clf.feature_importances_,index=wine.feature_names).sort_values(ascending=False)\n",
    "feature_imp"
   ]
  },
  {
   "cell_type": "code",
   "execution_count": 41,
   "metadata": {},
   "outputs": [
    {
     "name": "stderr",
     "output_type": "stream",
     "text": [
      "No artists with labels found to put in legend.  Note that artists whose label start with an underscore are ignored when legend() is called with no argument.\n"
     ]
    },
    {
     "data": {
      "image/png": "[encoded data removed]",
      "text/plain": [
       "<Figure size 1000x500 with 1 Axes>"
      ]
     },
     "metadata": {},
     "output_type": "display_data"
    }
   ],
   "source": [
    "import matplotlib.pyplot as plt\n",
    "import seaborn as sns\n",
    "%matplotlib inline\n",
    "# Cria um plotagem de barra\n",
    "sns.barplot(x=feature_imp, y=feature_imp.index)\n",
    "# Adiciona rótulos para o gráfico\n",
    "plt.xlabel('Importância da Característica')\n",
    "plt.ylabel('Características')\n",
    "plt.title(\"Visualização da Importância das Características\")\n",
    "plt.legend()\n",
    "plt.show()"
   ]
  },
  {
   "cell_type": "markdown",
   "metadata": {},
   "source": [
    "##### 10) Questão adicional - Utilizando alguma API obtenha dados de fontes que contenham dados abertos, tais como, redes sociais ou web sites. A partir disso, realize as devidas transformações para que os dados coletados sejam estruturados em um DataFrame do Pandas. Com os dados estruturados utilize alguma função de agregação (soma, média, contagem) projetando o resultado por meio de algum gráfico (1,0). Obs: recupere somente dados que estejam disponíveis por meio da API utilizada. "
   ]
  }
 ],
 "metadata": {
  "kernelspec": {
   "display_name": "Python 3.10.4 64-bit",
   "language": "python",
   "name": "python3"
  },
  "language_info": {
   "codemirror_mode": {
    "name": "ipython",
    "version": 3
   },
   "file_extension": ".py",
   "mimetype": "text/x-python",
   "name": "python",
   "nbconvert_exporter": "python",
   "pygments_lexer": "ipython3",
   "version": "3.10.7"
  },
  "orig_nbformat": 4,
  "vscode": {
   "interpreter": {
    "hash": "ea6272f363b121ac906328f9784414c4ff46af3cd325e9810fe97e6b132ab5cd"
   }
  }
 },
 "nbformat": 4,
 "nbformat_minor": 2
}
